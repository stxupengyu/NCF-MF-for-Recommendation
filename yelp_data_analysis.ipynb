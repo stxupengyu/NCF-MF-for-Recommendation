{
  "nbformat": 4,
  "nbformat_minor": 0,
  "metadata": {
    "colab": {
      "name": "yelp_data_analysis.ipynb",
      "provenance": [],
      "collapsed_sections": [
        "50eYGS5Rjkhk",
        "TnM_nlcDjqEj",
        "HpnPCxxHjt_Z",
        "IntGbc7OhgJr",
        "0PUxfQOoldJS",
        "QvkftEgdj2hx",
        "OHgAPqSnn3bx",
        "ts30qbAAnhAx",
        "zmCXnjw5nm0m"
      ],
      "machine_shape": "hm",
      "include_colab_link": true
    },
    "kernelspec": {
      "display_name": "Python 3",
      "language": "python",
      "name": "python3"
    },
    "language_info": {
      "codemirror_mode": {
        "name": "ipython",
        "version": 3
      },
      "file_extension": ".py",
      "mimetype": "text/x-python",
      "name": "python",
      "nbconvert_exporter": "python",
      "pygments_lexer": "ipython3",
      "version": "3.6.10"
    }
  },
  "cells": [
    {
      "cell_type": "markdown",
      "metadata": {
        "id": "view-in-github",
        "colab_type": "text"
      },
      "source": [
        "<a href=\"https://colab.research.google.com/github/stxupengyu/NCF-MF-for-Recommendation/blob/main/yelp_data_analysis.ipynb\" target=\"_parent\"><img src=\"https://colab.research.google.com/assets/colab-badge.svg\" alt=\"Open In Colab\"/></a>"
      ]
    },
    {
      "cell_type": "markdown",
      "metadata": {
        "id": "50eYGS5Rjkhk"
      },
      "source": [
        "#Link Google Drive"
      ]
    },
    {
      "cell_type": "code",
      "metadata": {
        "id": "9leA14iGH1vT",
        "colab": {
          "base_uri": "https://localhost:8080/"
        },
        "outputId": "ff887d33-8efb-4f35-c9c1-9441d872a291"
      },
      "source": [
        "#link google drive\n",
        "from google.colab import drive\n",
        "drive.mount('/content/drive')"
      ],
      "execution_count": null,
      "outputs": [
        {
          "output_type": "stream",
          "text": [
            "Drive already mounted at /content/drive; to attempt to forcibly remount, call drive.mount(\"/content/drive\", force_remount=True).\n"
          ],
          "name": "stdout"
        }
      ]
    },
    {
      "cell_type": "code",
      "metadata": {
        "id": "1dE5LVJLH1_7",
        "colab": {
          "base_uri": "https://localhost:8080/"
        },
        "outputId": "b3c8282a-b13b-4bfd-a165-f27c6db0deeb"
      },
      "source": [
        "#enter the folder\n",
        "!ls\n",
        "import os\n",
        "os.chdir('/content/drive/My Drive/Project/Deep-Rec-Sys')\n",
        "!ls"
      ],
      "execution_count": null,
      "outputs": [
        {
          "output_type": "stream",
          "text": [
            "Dataset_Agreement.pdf\t\t     yelp_academic_dataset_tip.json\n",
            "kaggle.json\t\t\t     yelp_academic_dataset_user.json\n",
            "yelp_academic_dataset_business.json  yelp_data_analysis.ipynb\n",
            "yelp_academic_dataset_checkin.json   yelp_recomendation.ipynb\n",
            "yelp_academic_dataset_review.json\n",
            "Dataset_Agreement.pdf\t\t     yelp_academic_dataset_tip.json\n",
            "kaggle.json\t\t\t     yelp_academic_dataset_user.json\n",
            "yelp_academic_dataset_business.json  yelp_data_analysis.ipynb\n",
            "yelp_academic_dataset_checkin.json   yelp_recomendation.ipynb\n",
            "yelp_academic_dataset_review.json\n"
          ],
          "name": "stdout"
        }
      ]
    },
    {
      "cell_type": "markdown",
      "metadata": {
        "id": "TnM_nlcDjqEj"
      },
      "source": [
        "#Download Data"
      ]
    },
    {
      "cell_type": "code",
      "metadata": {
        "id": "LHgiIN-OP2k1",
        "colab": {
          "base_uri": "https://localhost:8080/"
        },
        "outputId": "f85ca4c4-a544-4f20-8990-235d6be165e8"
      },
      "source": [
        "#下载并上传kaggle.json文件\n",
        "!pip install kaggle\n",
        "os.environ['KAGGLE_CONFIG_DIR'] = \"/content/drive/My Drive/Project/Deep-Rec-Sys\"\n",
        "#download kaggle dataset(10GB)\n",
        "!kaggle datasets download -d yelp-dataset/yelp-dataset\n",
        "!ls\n",
        "!unzip yelp-dataset.zip"
      ],
      "execution_count": null,
      "outputs": [
        {
          "output_type": "stream",
          "text": [
            "Requirement already satisfied: kaggle in /usr/local/lib/python3.6/dist-packages (1.5.9)\n",
            "Requirement already satisfied: six>=1.10 in /usr/local/lib/python3.6/dist-packages (from kaggle) (1.15.0)\n",
            "Requirement already satisfied: python-dateutil in /usr/local/lib/python3.6/dist-packages (from kaggle) (2.8.1)\n",
            "Requirement already satisfied: certifi in /usr/local/lib/python3.6/dist-packages (from kaggle) (2020.6.20)\n",
            "Requirement already satisfied: urllib3 in /usr/local/lib/python3.6/dist-packages (from kaggle) (1.24.3)\n",
            "Requirement already satisfied: requests in /usr/local/lib/python3.6/dist-packages (from kaggle) (2.23.0)\n",
            "Requirement already satisfied: slugify in /usr/local/lib/python3.6/dist-packages (from kaggle) (0.0.1)\n",
            "Requirement already satisfied: python-slugify in /usr/local/lib/python3.6/dist-packages (from kaggle) (4.0.1)\n",
            "Requirement already satisfied: tqdm in /usr/local/lib/python3.6/dist-packages (from kaggle) (4.41.1)\n",
            "Requirement already satisfied: idna<3,>=2.5 in /usr/local/lib/python3.6/dist-packages (from requests->kaggle) (2.10)\n",
            "Requirement already satisfied: chardet<4,>=3.0.2 in /usr/local/lib/python3.6/dist-packages (from requests->kaggle) (3.0.4)\n",
            "Requirement already satisfied: text-unidecode>=1.3 in /usr/local/lib/python3.6/dist-packages (from python-slugify->kaggle) (1.3)\n",
            "yelp-dataset.zip: Skipping, found more recently modified local copy (use --force to force download)\n",
            "Dataset_Agreement.pdf\t\t     yelp_academic_dataset_tip.json\n",
            "kaggle.json\t\t\t     yelp_academic_dataset_user.json\n",
            "yelp_academic_dataset_business.json  yelp_data_analysis.ipynb\n",
            "yelp_academic_dataset_checkin.json   yelp-dataset.zip\n",
            "yelp_academic_dataset_review.json    yelp_recomendation.ipynb\n",
            "Archive:  yelp-dataset.zip\n",
            "replace Dataset_Agreement.pdf? [y]es, [n]o, [A]ll, [N]one, [r]ename: "
          ],
          "name": "stdout"
        }
      ]
    },
    {
      "cell_type": "markdown",
      "metadata": {
        "id": "HpnPCxxHjt_Z"
      },
      "source": [
        "#Read Bussiness Data"
      ]
    },
    {
      "cell_type": "code",
      "metadata": {
        "id": "TVypinrlbOzE",
        "colab": {
          "base_uri": "https://localhost:8080/",
          "height": 278
        },
        "outputId": "8e1638fe-9edd-4246-ce10-bbf4d9530d5d"
      },
      "source": [
        "#read the dataset:yelp,review&business\n",
        "import numpy as np\n",
        "import pandas as pd\n",
        "import json\n",
        "import matplotlib.pyplot as plt\n",
        "import seaborn as sns\n",
        "%matplotlib inline\n",
        "# We only use the first 1,000,000 data in this assignment\n",
        "users = []\n",
        "with open('yelp_academic_dataset_business.json') as fl:\n",
        "    for i, line in enumerate(fl):\n",
        "        users.append(json.loads(line))\n",
        "        if i+1 >= 1000000:\n",
        "            break\n",
        "subset_business = pd.DataFrame(users)\n",
        "print('The shape of the data:',subset_business.shape)\n",
        "display(subset_business.tail(2))"
      ],
      "execution_count": null,
      "outputs": [
        {
          "output_type": "stream",
          "text": [
            "The shape of the data: (209393, 14)\n"
          ],
          "name": "stdout"
        },
        {
          "output_type": "display_data",
          "data": {
            "text/html": [
              "<div>\n",
              "<style scoped>\n",
              "    .dataframe tbody tr th:only-of-type {\n",
              "        vertical-align: middle;\n",
              "    }\n",
              "\n",
              "    .dataframe tbody tr th {\n",
              "        vertical-align: top;\n",
              "    }\n",
              "\n",
              "    .dataframe thead th {\n",
              "        text-align: right;\n",
              "    }\n",
              "</style>\n",
              "<table border=\"1\" class=\"dataframe\">\n",
              "  <thead>\n",
              "    <tr style=\"text-align: right;\">\n",
              "      <th></th>\n",
              "      <th>business_id</th>\n",
              "      <th>name</th>\n",
              "      <th>address</th>\n",
              "      <th>city</th>\n",
              "      <th>state</th>\n",
              "      <th>postal_code</th>\n",
              "      <th>latitude</th>\n",
              "      <th>longitude</th>\n",
              "      <th>stars</th>\n",
              "      <th>review_count</th>\n",
              "      <th>is_open</th>\n",
              "      <th>attributes</th>\n",
              "      <th>categories</th>\n",
              "      <th>hours</th>\n",
              "    </tr>\n",
              "  </thead>\n",
              "  <tbody>\n",
              "    <tr>\n",
              "      <th>209391</th>\n",
              "      <td>RSSIsgO00OuWQTRoITacpA</td>\n",
              "      <td>Indian Trail Dog Training</td>\n",
              "      <td></td>\n",
              "      <td>Indian Trail</td>\n",
              "      <td>NC</td>\n",
              "      <td>28079</td>\n",
              "      <td>35.101965</td>\n",
              "      <td>-80.599385</td>\n",
              "      <td>5.0</td>\n",
              "      <td>3</td>\n",
              "      <td>1</td>\n",
              "      <td>None</td>\n",
              "      <td>Pet Services, Pet Training, Pets</td>\n",
              "      <td>{'Monday': '0:0-0:0', 'Tuesday': '7:0-19:0', '...</td>\n",
              "    </tr>\n",
              "    <tr>\n",
              "      <th>209392</th>\n",
              "      <td>tOcYmewXFhQeZh3V42ymwg</td>\n",
              "      <td>Kudlow Ye</td>\n",
              "      <td>21 St Clair Avenue E, Suite 401</td>\n",
              "      <td>Toronto</td>\n",
              "      <td>ON</td>\n",
              "      <td>M4T 1L9</td>\n",
              "      <td>43.688214</td>\n",
              "      <td>-79.392756</td>\n",
              "      <td>5.0</td>\n",
              "      <td>3</td>\n",
              "      <td>1</td>\n",
              "      <td>None</td>\n",
              "      <td>Tax Services, Professional Services, Accountan...</td>\n",
              "      <td>{'Monday': '9:0-18:0', 'Tuesday': '9:0-18:0', ...</td>\n",
              "    </tr>\n",
              "  </tbody>\n",
              "</table>\n",
              "</div>"
            ],
            "text/plain": [
              "                   business_id  ...                                              hours\n",
              "209391  RSSIsgO00OuWQTRoITacpA  ...  {'Monday': '0:0-0:0', 'Tuesday': '7:0-19:0', '...\n",
              "209392  tOcYmewXFhQeZh3V42ymwg  ...  {'Monday': '9:0-18:0', 'Tuesday': '9:0-18:0', ...\n",
              "\n",
              "[2 rows x 14 columns]"
            ]
          },
          "metadata": {
            "tags": []
          }
        }
      ]
    },
    {
      "cell_type": "markdown",
      "metadata": {
        "id": "IntGbc7OhgJr"
      },
      "source": [
        "# Ratings Distribution:"
      ]
    },
    {
      "cell_type": "code",
      "metadata": {
        "id": "FetXSRJzg1RT",
        "colab": {
          "base_uri": "https://localhost:8080/",
          "height": 352
        },
        "outputId": "524569f8-7581-4213-a862-b423eff19028"
      },
      "source": [
        "#Get the distribution of the ratings\n",
        "x=subset_business['stars'].value_counts()\n",
        "x=x.sort_index()\n",
        "#plot\n",
        "plt.figure(figsize=(8,4))\n",
        "ax= sns.barplot(x.index, x.values, alpha=0.8)\n",
        "plt.title(\"Star Rating Distribution\")\n",
        "plt.ylabel('# of businesses', fontsize=12)\n",
        "plt.xlabel('Star Ratings ', fontsize=12)\n",
        "\n",
        "#adding the text labels\n",
        "rects = ax.patches\n",
        "labels = x.values\n",
        "for rect, label in zip(rects, labels):\n",
        "    height = rect.get_height()\n",
        "    ax.text(rect.get_x() + rect.get_width()/2, height + 5, label, ha='center', va='bottom')\n",
        "\n",
        "plt.show()"
      ],
      "execution_count": null,
      "outputs": [
        {
          "output_type": "stream",
          "text": [
            "/usr/local/lib/python3.6/dist-packages/seaborn/_decorators.py:43: FutureWarning: Pass the following variables as keyword args: x, y. From version 0.12, the only valid positional argument will be `data`, and passing other arguments without an explicit keyword will result in an error or misinterpretation.\n",
            "  FutureWarning\n"
          ],
          "name": "stderr"
        },
        {
          "output_type": "display_data",
          "data": {
            "image/png": "[encoded data removed]",
            "text/plain": [
              "<Figure size 576x288 with 1 Axes>"
            ]
          },
          "metadata": {
            "tags": [],
            "needs_background": "light"
          }
        }
      ]
    },
    {
      "cell_type": "markdown",
      "metadata": {
        "id": "0PUxfQOoldJS"
      },
      "source": [
        "# Categories Distribution:"
      ]
    },
    {
      "cell_type": "code",
      "metadata": {
        "id": "xvgcPLUYlcex",
        "colab": {
          "base_uri": "https://localhost:8080/",
          "height": 485
        },
        "outputId": "6fc6e959-17a9-40b4-bbe4-6a852829af20"
      },
      "source": [
        "business_cats = ''.join(subset_business['categories'].astype('str'))\n",
        "\n",
        "cats=pd.DataFrame(business_cats.split(','),columns=['categories'])\n",
        "\n",
        "#prep for chart\n",
        "x=cats.categories.value_counts()\n",
        "\n",
        "x=x.sort_values(ascending=False)\n",
        "x=x.iloc[0:20]\n",
        "\n",
        "#chart\n",
        "plt.figure(figsize=(16,4))\n",
        "ax = sns.barplot(x.index, x.values, alpha=0.8)#,color=color[5])\n",
        "plt.title(\"What are the top categories?\",fontsize=25)\n",
        "locs, labels = plt.xticks()\n",
        "plt.setp(labels, rotation=80)\n",
        "plt.ylabel('# businesses', fontsize=12)\n",
        "plt.xlabel('Category', fontsize=12)\n",
        "\n",
        "#adding the text labels\n",
        "# rects = ax.patches\n",
        "# labels = x.values\n",
        "# for rect, label in zip(rects, labels):\n",
        "#     height = rect.get_height()\n",
        "#     ax.text(rect.get_x() + rect.get_width()/2, height + 5, label, ha='center', va='bottom')\n",
        "\n",
        "plt.show()"
      ],
      "execution_count": null,
      "outputs": [
        {
          "output_type": "stream",
          "text": [
            "/usr/local/lib/python3.6/dist-packages/seaborn/_decorators.py:43: FutureWarning: Pass the following variables as keyword args: x, y. From version 0.12, the only valid positional argument will be `data`, and passing other arguments without an explicit keyword will result in an error or misinterpretation.\n",
            "  FutureWarning\n"
          ],
          "name": "stderr"
        },
        {
          "output_type": "display_data",
          "data": {
            "image/png": "[encoded data removed]",
            "text/plain": [
              "<Figure size 1152x288 with 1 Axes>"
            ]
          },
          "metadata": {
            "tags": [],
            "needs_background": "light"
          }
        }
      ]
    },
    {
      "cell_type": "markdown",
      "metadata": {
        "id": "QvkftEgdj2hx"
      },
      "source": [
        "#Read Review Data"
      ]
    },
    {
      "cell_type": "code",
      "metadata": {
        "id": "dhLHf4_MdgKX",
        "colab": {
          "base_uri": "https://localhost:8080/",
          "height": 278
        },
        "outputId": "791f4c8b-dee1-4f21-cca4-6074c526793e"
      },
      "source": [
        "# We only use the first 1,000,000 data in this assignment\n",
        "users = []\n",
        "with open('yelp_academic_dataset_review.json') as fl:\n",
        "    for i, line in enumerate(fl):\n",
        "        users.append(json.loads(line))\n",
        "        if i+1 >= 1000000:\n",
        "            break\n",
        "subset_review = pd.DataFrame(users)\n",
        "print('The shape of the data:',subset_review.shape)\n",
        "display(subset_review.tail(2))"
      ],
      "execution_count": null,
      "outputs": [
        {
          "output_type": "stream",
          "text": [
            "The shape of the data: (1000000, 9)\n"
          ],
          "name": "stdout"
        },
        {
          "output_type": "display_data",
          "data": {
            "text/html": [
              "<div>\n",
              "<style scoped>\n",
              "    .dataframe tbody tr th:only-of-type {\n",
              "        vertical-align: middle;\n",
              "    }\n",
              "\n",
              "    .dataframe tbody tr th {\n",
              "        vertical-align: top;\n",
              "    }\n",
              "\n",
              "    .dataframe thead th {\n",
              "        text-align: right;\n",
              "    }\n",
              "</style>\n",
              "<table border=\"1\" class=\"dataframe\">\n",
              "  <thead>\n",
              "    <tr style=\"text-align: right;\">\n",
              "      <th></th>\n",
              "      <th>review_id</th>\n",
              "      <th>user_id</th>\n",
              "      <th>business_id</th>\n",
              "      <th>stars</th>\n",
              "      <th>useful</th>\n",
              "      <th>funny</th>\n",
              "      <th>cool</th>\n",
              "      <th>text</th>\n",
              "      <th>date</th>\n",
              "    </tr>\n",
              "  </thead>\n",
              "  <tbody>\n",
              "    <tr>\n",
              "      <th>999998</th>\n",
              "      <td>7yqTN-PM-bnfwuryhIb7rA</td>\n",
              "      <td>WJrx5OjI8Ux2RNFDa3HKyA</td>\n",
              "      <td>IcHVYlgNGR-Zz8fnceiJ6g</td>\n",
              "      <td>4.0</td>\n",
              "      <td>0</td>\n",
              "      <td>0</td>\n",
              "      <td>0</td>\n",
              "      <td>Best Long Island Iced Teas anywhere. I love co...</td>\n",
              "      <td>2014-05-17 17:27:17</td>\n",
              "    </tr>\n",
              "    <tr>\n",
              "      <th>999999</th>\n",
              "      <td>pKYvRnfg9wDlXu7vhyUu4g</td>\n",
              "      <td>A_lR_ibGJtp8WwBzZrX6vQ</td>\n",
              "      <td>rtwojGcYuhbLbQ9D1Z2gSg</td>\n",
              "      <td>4.0</td>\n",
              "      <td>0</td>\n",
              "      <td>0</td>\n",
              "      <td>0</td>\n",
              "      <td>I love the mirrors on all the pillars. It give...</td>\n",
              "      <td>2013-09-16 01:42:01</td>\n",
              "    </tr>\n",
              "  </tbody>\n",
              "</table>\n",
              "</div>"
            ],
            "text/plain": [
              "                     review_id  ...                 date\n",
              "999998  7yqTN-PM-bnfwuryhIb7rA  ...  2014-05-17 17:27:17\n",
              "999999  pKYvRnfg9wDlXu7vhyUu4g  ...  2013-09-16 01:42:01\n",
              "\n",
              "[2 rows x 9 columns]"
            ]
          },
          "metadata": {
            "tags": []
          }
        }
      ]
    },
    {
      "cell_type": "code",
      "metadata": {
        "id": "iQysTapQU3J9",
        "colab": {
          "base_uri": "https://localhost:8080/",
          "height": 140
        },
        "outputId": "467c9652-8bf9-4f74-8867-8e9b4f5d7dcc"
      },
      "source": [
        "# pull out needed columns from subset_review table\n",
        "df_review = subset_review[['user_id','business_id','stars', 'useful','funny','cool','text']]\n",
        "display(df_review.tail(2))"
      ],
      "execution_count": null,
      "outputs": [
        {
          "output_type": "display_data",
          "data": {
            "text/html": [
              "<div>\n",
              "<style scoped>\n",
              "    .dataframe tbody tr th:only-of-type {\n",
              "        vertical-align: middle;\n",
              "    }\n",
              "\n",
              "    .dataframe tbody tr th {\n",
              "        vertical-align: top;\n",
              "    }\n",
              "\n",
              "    .dataframe thead th {\n",
              "        text-align: right;\n",
              "    }\n",
              "</style>\n",
              "<table border=\"1\" class=\"dataframe\">\n",
              "  <thead>\n",
              "    <tr style=\"text-align: right;\">\n",
              "      <th></th>\n",
              "      <th>user_id</th>\n",
              "      <th>business_id</th>\n",
              "      <th>stars</th>\n",
              "      <th>useful</th>\n",
              "      <th>funny</th>\n",
              "      <th>cool</th>\n",
              "      <th>text</th>\n",
              "    </tr>\n",
              "  </thead>\n",
              "  <tbody>\n",
              "    <tr>\n",
              "      <th>999998</th>\n",
              "      <td>WJrx5OjI8Ux2RNFDa3HKyA</td>\n",
              "      <td>IcHVYlgNGR-Zz8fnceiJ6g</td>\n",
              "      <td>4.0</td>\n",
              "      <td>0</td>\n",
              "      <td>0</td>\n",
              "      <td>0</td>\n",
              "      <td>Best Long Island Iced Teas anywhere. I love co...</td>\n",
              "    </tr>\n",
              "    <tr>\n",
              "      <th>999999</th>\n",
              "      <td>A_lR_ibGJtp8WwBzZrX6vQ</td>\n",
              "      <td>rtwojGcYuhbLbQ9D1Z2gSg</td>\n",
              "      <td>4.0</td>\n",
              "      <td>0</td>\n",
              "      <td>0</td>\n",
              "      <td>0</td>\n",
              "      <td>I love the mirrors on all the pillars. It give...</td>\n",
              "    </tr>\n",
              "  </tbody>\n",
              "</table>\n",
              "</div>"
            ],
            "text/plain": [
              "                       user_id  ...                                               text\n",
              "999998  WJrx5OjI8Ux2RNFDa3HKyA  ...  Best Long Island Iced Teas anywhere. I love co...\n",
              "999999  A_lR_ibGJtp8WwBzZrX6vQ  ...  I love the mirrors on all the pillars. It give...\n",
              "\n",
              "[2 rows x 7 columns]"
            ]
          },
          "metadata": {
            "tags": []
          }
        }
      ]
    },
    {
      "cell_type": "markdown",
      "metadata": {
        "id": "OHgAPqSnn3bx"
      },
      "source": [
        "#Combine Two Data in Toronto"
      ]
    },
    {
      "cell_type": "code",
      "metadata": {
        "id": "OMUlDPqRCrys",
        "colab": {
          "base_uri": "https://localhost:8080/",
          "height": 174
        },
        "outputId": "6632b399-6667-4d67-b148-46c81f664030"
      },
      "source": [
        "# Businesses in Toronto and currently open business\n",
        "city = subset_business[(subset_business['city'] == 'Toronto')] #& (subset_business['is_open'] == 1)]\n",
        "toronto = city[['business_id','name','address', 'categories', 'attributes','stars']]\n",
        "rest = toronto.reset_index()\n",
        "display(rest.tail(2))"
      ],
      "execution_count": null,
      "outputs": [
        {
          "output_type": "display_data",
          "data": {
            "text/html": [
              "<div>\n",
              "<style scoped>\n",
              "    .dataframe tbody tr th:only-of-type {\n",
              "        vertical-align: middle;\n",
              "    }\n",
              "\n",
              "    .dataframe tbody tr th {\n",
              "        vertical-align: top;\n",
              "    }\n",
              "\n",
              "    .dataframe thead th {\n",
              "        text-align: right;\n",
              "    }\n",
              "</style>\n",
              "<table border=\"1\" class=\"dataframe\">\n",
              "  <thead>\n",
              "    <tr style=\"text-align: right;\">\n",
              "      <th></th>\n",
              "      <th>index</th>\n",
              "      <th>business_id</th>\n",
              "      <th>name</th>\n",
              "      <th>address</th>\n",
              "      <th>categories</th>\n",
              "      <th>attributes</th>\n",
              "      <th>stars</th>\n",
              "    </tr>\n",
              "  </thead>\n",
              "  <tbody>\n",
              "    <tr>\n",
              "      <th>20364</th>\n",
              "      <td>209377</td>\n",
              "      <td>n2BKYb8aw4AhRKLkdUjQRg</td>\n",
              "      <td>Steak &amp; Cheese &amp; Quick Pita Restaurant</td>\n",
              "      <td>199 College St</td>\n",
              "      <td>Sandwiches, Restaurants</td>\n",
              "      <td>{'OutdoorSeating': 'False', 'Alcohol': 'u'none...</td>\n",
              "      <td>2.5</td>\n",
              "    </tr>\n",
              "    <tr>\n",
              "      <th>20365</th>\n",
              "      <td>209392</td>\n",
              "      <td>tOcYmewXFhQeZh3V42ymwg</td>\n",
              "      <td>Kudlow Ye</td>\n",
              "      <td>21 St Clair Avenue E, Suite 401</td>\n",
              "      <td>Tax Services, Professional Services, Accountan...</td>\n",
              "      <td>None</td>\n",
              "      <td>5.0</td>\n",
              "    </tr>\n",
              "  </tbody>\n",
              "</table>\n",
              "</div>"
            ],
            "text/plain": [
              "        index  ... stars\n",
              "20364  209377  ...   2.5\n",
              "20365  209392  ...   5.0\n",
              "\n",
              "[2 rows x 7 columns]"
            ]
          },
          "metadata": {
            "tags": []
          }
        }
      ]
    },
    {
      "cell_type": "code",
      "metadata": {
        "id": "tm-wvEdL-V8H",
        "colab": {
          "base_uri": "https://localhost:8080/",
          "height": 140
        },
        "outputId": "7cb8acf9-3e1b-4eb4-ffcf-55970fab01c7"
      },
      "source": [
        "# pull out names and addresses of the restaurants from rest table\n",
        "restaurant = rest[['business_id', 'name', 'address','categories']]\n",
        "display(restaurant.tail(2))"
      ],
      "execution_count": null,
      "outputs": [
        {
          "output_type": "display_data",
          "data": {
            "text/html": [
              "<div>\n",
              "<style scoped>\n",
              "    .dataframe tbody tr th:only-of-type {\n",
              "        vertical-align: middle;\n",
              "    }\n",
              "\n",
              "    .dataframe tbody tr th {\n",
              "        vertical-align: top;\n",
              "    }\n",
              "\n",
              "    .dataframe thead th {\n",
              "        text-align: right;\n",
              "    }\n",
              "</style>\n",
              "<table border=\"1\" class=\"dataframe\">\n",
              "  <thead>\n",
              "    <tr style=\"text-align: right;\">\n",
              "      <th></th>\n",
              "      <th>business_id</th>\n",
              "      <th>name</th>\n",
              "      <th>address</th>\n",
              "      <th>categories</th>\n",
              "    </tr>\n",
              "  </thead>\n",
              "  <tbody>\n",
              "    <tr>\n",
              "      <th>20364</th>\n",
              "      <td>n2BKYb8aw4AhRKLkdUjQRg</td>\n",
              "      <td>Steak &amp; Cheese &amp; Quick Pita Restaurant</td>\n",
              "      <td>199 College St</td>\n",
              "      <td>Sandwiches, Restaurants</td>\n",
              "    </tr>\n",
              "    <tr>\n",
              "      <th>20365</th>\n",
              "      <td>tOcYmewXFhQeZh3V42ymwg</td>\n",
              "      <td>Kudlow Ye</td>\n",
              "      <td>21 St Clair Avenue E, Suite 401</td>\n",
              "      <td>Tax Services, Professional Services, Accountan...</td>\n",
              "    </tr>\n",
              "  </tbody>\n",
              "</table>\n",
              "</div>"
            ],
            "text/plain": [
              "                  business_id  ...                                         categories\n",
              "20364  n2BKYb8aw4AhRKLkdUjQRg  ...                            Sandwiches, Restaurants\n",
              "20365  tOcYmewXFhQeZh3V42ymwg  ...  Tax Services, Professional Services, Accountan...\n",
              "\n",
              "[2 rows x 4 columns]"
            ]
          },
          "metadata": {
            "tags": []
          }
        }
      ]
    },
    {
      "cell_type": "code",
      "metadata": {
        "id": "xmZezR9wuD_p",
        "colab": {
          "base_uri": "https://localhost:8080/",
          "height": 278
        },
        "outputId": "2dc52cf0-b731-4f90-a9eb-6716343b495f"
      },
      "source": [
        "# combine df_review and restaurant table\n",
        "combined_business_data = pd.merge(df_review, restaurant, on='business_id')\n",
        "display(combined_business_data.tail(2))"
      ],
      "execution_count": null,
      "outputs": [
        {
          "output_type": "display_data",
          "data": {
            "text/html": [
              "<div>\n",
              "<style scoped>\n",
              "    .dataframe tbody tr th:only-of-type {\n",
              "        vertical-align: middle;\n",
              "    }\n",
              "\n",
              "    .dataframe tbody tr th {\n",
              "        vertical-align: top;\n",
              "    }\n",
              "\n",
              "    .dataframe thead th {\n",
              "        text-align: right;\n",
              "    }\n",
              "</style>\n",
              "<table border=\"1\" class=\"dataframe\">\n",
              "  <thead>\n",
              "    <tr style=\"text-align: right;\">\n",
              "      <th></th>\n",
              "      <th>user_id</th>\n",
              "      <th>business_id</th>\n",
              "      <th>stars</th>\n",
              "      <th>useful</th>\n",
              "      <th>funny</th>\n",
              "      <th>cool</th>\n",
              "      <th>text</th>\n",
              "      <th>name</th>\n",
              "      <th>address</th>\n",
              "      <th>categories</th>\n",
              "    </tr>\n",
              "  </thead>\n",
              "  <tbody>\n",
              "    <tr>\n",
              "      <th>71008</th>\n",
              "      <td>4yQtGuSUtHhQTcWFrD2Lnw</td>\n",
              "      <td>fFKbj19pBWMQosCn9qsTdw</td>\n",
              "      <td>5.0</td>\n",
              "      <td>0</td>\n",
              "      <td>0</td>\n",
              "      <td>0</td>\n",
              "      <td>I was looking for hairdressers to go to becaus...</td>\n",
              "      <td>Lebel &amp; Crowe</td>\n",
              "      <td>1491 Dundas Street W</td>\n",
              "      <td>Beauty &amp; Spas, Hair Salons</td>\n",
              "    </tr>\n",
              "    <tr>\n",
              "      <th>71009</th>\n",
              "      <td>eXhwli2CzubJ058MEXtCsg</td>\n",
              "      <td>os9fE0YwboRi9PDZZ7gf2w</td>\n",
              "      <td>5.0</td>\n",
              "      <td>9</td>\n",
              "      <td>0</td>\n",
              "      <td>1</td>\n",
              "      <td>I'm so pleased to have stumbled across this ut...</td>\n",
              "      <td>EweKnit</td>\n",
              "      <td>585 Markham Street</td>\n",
              "      <td>Shopping, Knitting Supplies</td>\n",
              "    </tr>\n",
              "  </tbody>\n",
              "</table>\n",
              "</div>"
            ],
            "text/plain": [
              "                      user_id  ...                   categories\n",
              "71008  4yQtGuSUtHhQTcWFrD2Lnw  ...   Beauty & Spas, Hair Salons\n",
              "71009  eXhwli2CzubJ058MEXtCsg  ...  Shopping, Knitting Supplies\n",
              "\n",
              "[2 rows x 10 columns]"
            ]
          },
          "metadata": {
            "tags": []
          }
        }
      ]
    },
    {
      "cell_type": "code",
      "metadata": {
        "id": "_YmYrlbyE0st",
        "colab": {
          "base_uri": "https://localhost:8080/"
        },
        "outputId": "53299ec7-b1eb-4b75-baf8-3f5a2faf2a3c"
      },
      "source": [
        "print('how many users?：',len(combined_business_data['user_id'].drop_duplicates()))\n",
        "print('how many locations?：',len(combined_business_data['business_id'].drop_duplicates()))"
      ],
      "execution_count": null,
      "outputs": [
        {
          "output_type": "stream",
          "text": [
            "how many users?： 35090\n",
            "how many locations?： 3527\n"
          ],
          "name": "stdout"
        }
      ]
    },
    {
      "cell_type": "markdown",
      "metadata": {
        "id": "ts30qbAAnhAx"
      },
      "source": [
        "# Ratings Distribution:"
      ]
    },
    {
      "cell_type": "code",
      "metadata": {
        "id": "HAsmzlzUnhA6",
        "colab": {
          "base_uri": "https://localhost:8080/",
          "height": 352
        },
        "outputId": "82762042-ddf9-41b5-9f1d-d7cf53633afc"
      },
      "source": [
        "#Get the distribution of the ratings\n",
        "x=combined_business_data['stars'].value_counts()\n",
        "x=x.sort_index()\n",
        "#plot\n",
        "plt.figure(figsize=(8,4))\n",
        "ax= sns.barplot(x.index, x.values, alpha=0.8)\n",
        "plt.title(\"Star Rating Distribution\")\n",
        "plt.ylabel('# of businesses', fontsize=12)\n",
        "plt.xlabel('Star Ratings ', fontsize=12)\n",
        "\n",
        "#adding the text labels\n",
        "rects = ax.patches\n",
        "labels = x.values\n",
        "for rect, label in zip(rects, labels):\n",
        "    height = rect.get_height()\n",
        "    ax.text(rect.get_x() + rect.get_width()/2, height + 5, label, ha='center', va='bottom')\n",
        "\n",
        "plt.show()"
      ],
      "execution_count": null,
      "outputs": [
        {
          "output_type": "stream",
          "text": [
            "/usr/local/lib/python3.6/dist-packages/seaborn/_decorators.py:43: FutureWarning: Pass the following variables as keyword args: x, y. From version 0.12, the only valid positional argument will be `data`, and passing other arguments without an explicit keyword will result in an error or misinterpretation.\n",
            "  FutureWarning\n"
          ],
          "name": "stderr"
        },
        {
          "output_type": "display_data",
          "data": {
            "image/png": "[encoded data removed]",
            "text/plain": [
              "<Figure size 576x288 with 1 Axes>"
            ]
          },
          "metadata": {
            "tags": [],
            "needs_background": "light"
          }
        }
      ]
    },
    {
      "cell_type": "markdown",
      "metadata": {
        "id": "zmCXnjw5nm0m"
      },
      "source": [
        "# Categories Distribution:"
      ]
    },
    {
      "cell_type": "code",
      "metadata": {
        "id": "GJfIDur4nm0n",
        "colab": {
          "base_uri": "https://localhost:8080/",
          "height": 485
        },
        "outputId": "3f9e3fbb-97b0-410e-d4b6-96ea6888d585"
      },
      "source": [
        "business_cats = ''.join(combined_business_data['categories'].astype('str'))\n",
        "\n",
        "cats=pd.DataFrame(business_cats.split(','),columns=['categories'])\n",
        "\n",
        "#prep for chart\n",
        "x=cats.categories.value_counts()\n",
        "\n",
        "x=x.sort_values(ascending=False)\n",
        "x=x.iloc[0:20]\n",
        "\n",
        "#chart\n",
        "plt.figure(figsize=(16,4))\n",
        "ax = sns.barplot(x.index, x.values, alpha=0.8)#,color=color[5])\n",
        "plt.title(\"What are the top categories?\",fontsize=25)\n",
        "locs, labels = plt.xticks()\n",
        "plt.setp(labels, rotation=80)\n",
        "plt.ylabel('# businesses', fontsize=12)\n",
        "plt.xlabel('Category', fontsize=12)\n",
        "\n",
        "#adding the text labels\n",
        "rects = ax.patches\n",
        "labels = x.values\n",
        "for rect, label in zip(rects, labels):\n",
        "    height = rect.get_height()\n",
        "    ax.text(rect.get_x() + rect.get_width()/2, height + 5, label, ha='center', va='bottom')\n",
        "\n",
        "plt.show()"
      ],
      "execution_count": null,
      "outputs": [
        {
          "output_type": "stream",
          "text": [
            "/usr/local/lib/python3.6/dist-packages/seaborn/_decorators.py:43: FutureWarning: Pass the following variables as keyword args: x, y. From version 0.12, the only valid positional argument will be `data`, and passing other arguments without an explicit keyword will result in an error or misinterpretation.\n",
            "  FutureWarning\n"
          ],
          "name": "stderr"
        },
        {
          "output_type": "display_data",
          "data": {
            "image/png": "[encoded data removed]",
            "text/plain": [
              "<Figure size 1152x288 with 1 Axes>"
            ]
          },
          "metadata": {
            "tags": [],
            "needs_background": "light"
          }
        }
      ]
    },
    {
      "cell_type": "markdown",
      "metadata": {
        "id": "fvsmvmCVqm_0"
      },
      "source": [
        "#Save Data to CSV"
      ]
    },
    {
      "cell_type": "code",
      "metadata": {
        "id": "Zplg2DKMEeTl",
        "colab": {
          "base_uri": "https://localhost:8080/",
          "height": 106
        },
        "outputId": "d88e2324-57ed-43ad-f2d2-1548c4f3f7d2"
      },
      "source": [
        "#final necessary data\n",
        "dataset=combined_business_data[['user_id', 'business_id', 'stars','text']]\n",
        "display(dataset.tail(2))"
      ],
      "execution_count": null,
      "outputs": [
        {
          "output_type": "display_data",
          "data": {
            "text/html": [
              "<div>\n",
              "<style scoped>\n",
              "    .dataframe tbody tr th:only-of-type {\n",
              "        vertical-align: middle;\n",
              "    }\n",
              "\n",
              "    .dataframe tbody tr th {\n",
              "        vertical-align: top;\n",
              "    }\n",
              "\n",
              "    .dataframe thead th {\n",
              "        text-align: right;\n",
              "    }\n",
              "</style>\n",
              "<table border=\"1\" class=\"dataframe\">\n",
              "  <thead>\n",
              "    <tr style=\"text-align: right;\">\n",
              "      <th></th>\n",
              "      <th>user_id</th>\n",
              "      <th>business_id</th>\n",
              "      <th>stars</th>\n",
              "      <th>text</th>\n",
              "    </tr>\n",
              "  </thead>\n",
              "  <tbody>\n",
              "    <tr>\n",
              "      <th>71008</th>\n",
              "      <td>4yQtGuSUtHhQTcWFrD2Lnw</td>\n",
              "      <td>fFKbj19pBWMQosCn9qsTdw</td>\n",
              "      <td>5.0</td>\n",
              "      <td>I was looking for hairdressers to go to becaus...</td>\n",
              "    </tr>\n",
              "    <tr>\n",
              "      <th>71009</th>\n",
              "      <td>eXhwli2CzubJ058MEXtCsg</td>\n",
              "      <td>os9fE0YwboRi9PDZZ7gf2w</td>\n",
              "      <td>5.0</td>\n",
              "      <td>I'm so pleased to have stumbled across this ut...</td>\n",
              "    </tr>\n",
              "  </tbody>\n",
              "</table>\n",
              "</div>"
            ],
            "text/plain": [
              "                      user_id  ...                                               text\n",
              "71008  4yQtGuSUtHhQTcWFrD2Lnw  ...  I was looking for hairdressers to go to becaus...\n",
              "71009  eXhwli2CzubJ058MEXtCsg  ...  I'm so pleased to have stumbled across this ut...\n",
              "\n",
              "[2 rows x 4 columns]"
            ]
          },
          "metadata": {
            "tags": []
          }
        }
      ]
    },
    {
      "cell_type": "code",
      "metadata": {
        "id": "_UKJjbgQEehd",
        "colab": {
          "base_uri": "https://localhost:8080/",
          "height": 623
        },
        "outputId": "a8d7d7bd-df47-45e7-bbca-9e5b01cee441"
      },
      "source": [
        "#convert id to number\n",
        "dictionary_user=dict(zip(list(dataset['user_id'].drop_duplicates().values), range(len(dataset['user_id'].drop_duplicates().values))))\n",
        "dictionary_business=dict(zip(list(dataset['business_id'].drop_duplicates().values), range(len(dataset['business_id'].drop_duplicates().values))))\n",
        "user_set=[]\n",
        "for user in dataset['user_id']:\n",
        "  user_set.append(dictionary_user[user]+1)\n",
        "business_set=[]\n",
        "for business in dataset['business_id']:\n",
        "  business_set.append(dictionary_business[business]+1)\n",
        "dataset['user_id']=user_set\n",
        "dataset['business_id']=business_set\n",
        "display(dataset.tail(2))"
      ],
      "execution_count": null,
      "outputs": [
        {
          "output_type": "stream",
          "text": [
            "/usr/local/lib/python3.6/dist-packages/ipykernel_launcher.py:10: SettingWithCopyWarning: \n",
            "A value is trying to be set on a copy of a slice from a DataFrame.\n",
            "Try using .loc[row_indexer,col_indexer] = value instead\n",
            "\n",
            "See the caveats in the documentation: https://pandas.pydata.org/pandas-docs/stable/user_guide/indexing.html#returning-a-view-versus-a-copy\n",
            "  # Remove the CWD from sys.path while we load stuff.\n",
            "/usr/local/lib/python3.6/dist-packages/ipykernel_launcher.py:11: SettingWithCopyWarning: \n",
            "A value is trying to be set on a copy of a slice from a DataFrame.\n",
            "Try using .loc[row_indexer,col_indexer] = value instead\n",
            "\n",
            "See the caveats in the documentation: https://pandas.pydata.org/pandas-docs/stable/user_guide/indexing.html#returning-a-view-versus-a-copy\n",
            "  # This is added back by InteractiveShellApp.init_path()\n"
          ],
          "name": "stderr"
        },
        {
          "output_type": "execute_result",
          "data": {
            "text/html": [
              "<div>\n",
              "<style scoped>\n",
              "    .dataframe tbody tr th:only-of-type {\n",
              "        vertical-align: middle;\n",
              "    }\n",
              "\n",
              "    .dataframe tbody tr th {\n",
              "        vertical-align: top;\n",
              "    }\n",
              "\n",
              "    .dataframe thead th {\n",
              "        text-align: right;\n",
              "    }\n",
              "</style>\n",
              "<table border=\"1\" class=\"dataframe\">\n",
              "  <thead>\n",
              "    <tr style=\"text-align: right;\">\n",
              "      <th></th>\n",
              "      <th>user_id</th>\n",
              "      <th>business_id</th>\n",
              "      <th>stars</th>\n",
              "      <th>text</th>\n",
              "    </tr>\n",
              "  </thead>\n",
              "  <tbody>\n",
              "    <tr>\n",
              "      <th>0</th>\n",
              "      <td>1</td>\n",
              "      <td>1</td>\n",
              "      <td>4.0</td>\n",
              "      <td>In the heart of Chinatown, I discovered it enr...</td>\n",
              "    </tr>\n",
              "    <tr>\n",
              "      <th>1</th>\n",
              "      <td>2</td>\n",
              "      <td>1</td>\n",
              "      <td>4.0</td>\n",
              "      <td>Delicious Cavatelli and white chocolate tirami...</td>\n",
              "    </tr>\n",
              "    <tr>\n",
              "      <th>2</th>\n",
              "      <td>3</td>\n",
              "      <td>1</td>\n",
              "      <td>4.0</td>\n",
              "      <td>Went for a bite after going to the art museum ...</td>\n",
              "    </tr>\n",
              "    <tr>\n",
              "      <th>3</th>\n",
              "      <td>4</td>\n",
              "      <td>1</td>\n",
              "      <td>5.0</td>\n",
              "      <td>Peking duck and pizza are two of my favourite ...</td>\n",
              "    </tr>\n",
              "    <tr>\n",
              "      <th>4</th>\n",
              "      <td>5</td>\n",
              "      <td>1</td>\n",
              "      <td>5.0</td>\n",
              "      <td>Great service, super casual, amazing house mad...</td>\n",
              "    </tr>\n",
              "    <tr>\n",
              "      <th>...</th>\n",
              "      <td>...</td>\n",
              "      <td>...</td>\n",
              "      <td>...</td>\n",
              "      <td>...</td>\n",
              "    </tr>\n",
              "    <tr>\n",
              "      <th>71005</th>\n",
              "      <td>35090</td>\n",
              "      <td>3523</td>\n",
              "      <td>5.0</td>\n",
              "      <td>Quick at fixing my broken cellphone and for a ...</td>\n",
              "    </tr>\n",
              "    <tr>\n",
              "      <th>71006</th>\n",
              "      <td>17647</td>\n",
              "      <td>3524</td>\n",
              "      <td>5.0</td>\n",
              "      <td>I received top notch service at Origin Wellnes...</td>\n",
              "    </tr>\n",
              "    <tr>\n",
              "      <th>71007</th>\n",
              "      <td>6290</td>\n",
              "      <td>3525</td>\n",
              "      <td>2.0</td>\n",
              "      <td>A bunch of my coworkers and I went here for lu...</td>\n",
              "    </tr>\n",
              "    <tr>\n",
              "      <th>71008</th>\n",
              "      <td>24585</td>\n",
              "      <td>3526</td>\n",
              "      <td>5.0</td>\n",
              "      <td>I was looking for hairdressers to go to becaus...</td>\n",
              "    </tr>\n",
              "    <tr>\n",
              "      <th>71009</th>\n",
              "      <td>10713</td>\n",
              "      <td>3527</td>\n",
              "      <td>5.0</td>\n",
              "      <td>I'm so pleased to have stumbled across this ut...</td>\n",
              "    </tr>\n",
              "  </tbody>\n",
              "</table>\n",
              "<p>71010 rows × 4 columns</p>\n",
              "</div>"
            ],
            "text/plain": [
              "       user_id  ...                                               text\n",
              "0            1  ...  In the heart of Chinatown, I discovered it enr...\n",
              "1            2  ...  Delicious Cavatelli and white chocolate tirami...\n",
              "2            3  ...  Went for a bite after going to the art museum ...\n",
              "3            4  ...  Peking duck and pizza are two of my favourite ...\n",
              "4            5  ...  Great service, super casual, amazing house mad...\n",
              "...        ...  ...                                                ...\n",
              "71005    35090  ...  Quick at fixing my broken cellphone and for a ...\n",
              "71006    17647  ...  I received top notch service at Origin Wellnes...\n",
              "71007     6290  ...  A bunch of my coworkers and I went here for lu...\n",
              "71008    24585  ...  I was looking for hairdressers to go to becaus...\n",
              "71009    10713  ...  I'm so pleased to have stumbled across this ut...\n",
              "\n",
              "[71010 rows x 4 columns]"
            ]
          },
          "metadata": {
            "tags": []
          },
          "execution_count": 43
        }
      ]
    },
    {
      "cell_type": "code",
      "metadata": {
        "id": "z6lTda69Xmbj",
        "colab": {
          "base_uri": "https://localhost:8080/",
          "height": 402
        },
        "outputId": "469b246d-fc51-4a85-8eac-74011901fd3b"
      },
      "source": [
        "#store the dataset and then read it \n",
        "dataset.to_csv('rating_text.csv',header=-1,index=0)\n",
        "pd.read_csv('rating_text.csv')"
      ],
      "execution_count": null,
      "outputs": [
        {
          "output_type": "execute_result",
          "data": {
            "text/html": [
              "<div>\n",
              "<style scoped>\n",
              "    .dataframe tbody tr th:only-of-type {\n",
              "        vertical-align: middle;\n",
              "    }\n",
              "\n",
              "    .dataframe tbody tr th {\n",
              "        vertical-align: top;\n",
              "    }\n",
              "\n",
              "    .dataframe thead th {\n",
              "        text-align: right;\n",
              "    }\n",
              "</style>\n",
              "<table border=\"1\" class=\"dataframe\">\n",
              "  <thead>\n",
              "    <tr style=\"text-align: right;\">\n",
              "      <th></th>\n",
              "      <th>user_id</th>\n",
              "      <th>business_id</th>\n",
              "      <th>stars</th>\n",
              "      <th>text</th>\n",
              "    </tr>\n",
              "  </thead>\n",
              "  <tbody>\n",
              "    <tr>\n",
              "      <th>0</th>\n",
              "      <td>1</td>\n",
              "      <td>1</td>\n",
              "      <td>4.0</td>\n",
              "      <td>In the heart of Chinatown, I discovered it enr...</td>\n",
              "    </tr>\n",
              "    <tr>\n",
              "      <th>1</th>\n",
              "      <td>2</td>\n",
              "      <td>1</td>\n",
              "      <td>4.0</td>\n",
              "      <td>Delicious Cavatelli and white chocolate tirami...</td>\n",
              "    </tr>\n",
              "    <tr>\n",
              "      <th>2</th>\n",
              "      <td>3</td>\n",
              "      <td>1</td>\n",
              "      <td>4.0</td>\n",
              "      <td>Went for a bite after going to the art museum ...</td>\n",
              "    </tr>\n",
              "    <tr>\n",
              "      <th>3</th>\n",
              "      <td>4</td>\n",
              "      <td>1</td>\n",
              "      <td>5.0</td>\n",
              "      <td>Peking duck and pizza are two of my favourite ...</td>\n",
              "    </tr>\n",
              "    <tr>\n",
              "      <th>4</th>\n",
              "      <td>5</td>\n",
              "      <td>1</td>\n",
              "      <td>5.0</td>\n",
              "      <td>Great service, super casual, amazing house mad...</td>\n",
              "    </tr>\n",
              "    <tr>\n",
              "      <th>...</th>\n",
              "      <td>...</td>\n",
              "      <td>...</td>\n",
              "      <td>...</td>\n",
              "      <td>...</td>\n",
              "    </tr>\n",
              "    <tr>\n",
              "      <th>71005</th>\n",
              "      <td>35090</td>\n",
              "      <td>3523</td>\n",
              "      <td>5.0</td>\n",
              "      <td>Quick at fixing my broken cellphone and for a ...</td>\n",
              "    </tr>\n",
              "    <tr>\n",
              "      <th>71006</th>\n",
              "      <td>17647</td>\n",
              "      <td>3524</td>\n",
              "      <td>5.0</td>\n",
              "      <td>I received top notch service at Origin Wellnes...</td>\n",
              "    </tr>\n",
              "    <tr>\n",
              "      <th>71007</th>\n",
              "      <td>6290</td>\n",
              "      <td>3525</td>\n",
              "      <td>2.0</td>\n",
              "      <td>A bunch of my coworkers and I went here for lu...</td>\n",
              "    </tr>\n",
              "    <tr>\n",
              "      <th>71008</th>\n",
              "      <td>24585</td>\n",
              "      <td>3526</td>\n",
              "      <td>5.0</td>\n",
              "      <td>I was looking for hairdressers to go to becaus...</td>\n",
              "    </tr>\n",
              "    <tr>\n",
              "      <th>71009</th>\n",
              "      <td>10713</td>\n",
              "      <td>3527</td>\n",
              "      <td>5.0</td>\n",
              "      <td>I'm so pleased to have stumbled across this ut...</td>\n",
              "    </tr>\n",
              "  </tbody>\n",
              "</table>\n",
              "<p>71010 rows × 4 columns</p>\n",
              "</div>"
            ],
            "text/plain": [
              "       user_id  ...                                               text\n",
              "0            1  ...  In the heart of Chinatown, I discovered it enr...\n",
              "1            2  ...  Delicious Cavatelli and white chocolate tirami...\n",
              "2            3  ...  Went for a bite after going to the art museum ...\n",
              "3            4  ...  Peking duck and pizza are two of my favourite ...\n",
              "4            5  ...  Great service, super casual, amazing house mad...\n",
              "...        ...  ...                                                ...\n",
              "71005    35090  ...  Quick at fixing my broken cellphone and for a ...\n",
              "71006    17647  ...  I received top notch service at Origin Wellnes...\n",
              "71007     6290  ...  A bunch of my coworkers and I went here for lu...\n",
              "71008    24585  ...  I was looking for hairdressers to go to becaus...\n",
              "71009    10713  ...  I'm so pleased to have stumbled across this ut...\n",
              "\n",
              "[71010 rows x 4 columns]"
            ]
          },
          "metadata": {
            "tags": []
          },
          "execution_count": 48
        }
      ]
    },
    {
      "cell_type": "code",
      "metadata": {
        "id": "_YYiiAKOEeLm",
        "colab": {
          "base_uri": "https://localhost:8080/",
          "height": 402
        },
        "outputId": "4a2d6274-d39c-43b2-848b-1febd9e78d50"
      },
      "source": [
        "#store the dataset and then read it \n",
        "dataset.iloc[:,:-1].to_csv('rating.csv',header=0,index=0)\n",
        "pd.read_csv('rating.csv')"
      ],
      "execution_count": null,
      "outputs": [
        {
          "output_type": "execute_result",
          "data": {
            "text/html": [
              "<div>\n",
              "<style scoped>\n",
              "    .dataframe tbody tr th:only-of-type {\n",
              "        vertical-align: middle;\n",
              "    }\n",
              "\n",
              "    .dataframe tbody tr th {\n",
              "        vertical-align: top;\n",
              "    }\n",
              "\n",
              "    .dataframe thead th {\n",
              "        text-align: right;\n",
              "    }\n",
              "</style>\n",
              "<table border=\"1\" class=\"dataframe\">\n",
              "  <thead>\n",
              "    <tr style=\"text-align: right;\">\n",
              "      <th></th>\n",
              "      <th>1</th>\n",
              "      <th>1.1</th>\n",
              "      <th>4.0</th>\n",
              "    </tr>\n",
              "  </thead>\n",
              "  <tbody>\n",
              "    <tr>\n",
              "      <th>0</th>\n",
              "      <td>2</td>\n",
              "      <td>1</td>\n",
              "      <td>4.0</td>\n",
              "    </tr>\n",
              "    <tr>\n",
              "      <th>1</th>\n",
              "      <td>3</td>\n",
              "      <td>1</td>\n",
              "      <td>4.0</td>\n",
              "    </tr>\n",
              "    <tr>\n",
              "      <th>2</th>\n",
              "      <td>4</td>\n",
              "      <td>1</td>\n",
              "      <td>5.0</td>\n",
              "    </tr>\n",
              "    <tr>\n",
              "      <th>3</th>\n",
              "      <td>5</td>\n",
              "      <td>1</td>\n",
              "      <td>5.0</td>\n",
              "    </tr>\n",
              "    <tr>\n",
              "      <th>4</th>\n",
              "      <td>6</td>\n",
              "      <td>1</td>\n",
              "      <td>5.0</td>\n",
              "    </tr>\n",
              "    <tr>\n",
              "      <th>...</th>\n",
              "      <td>...</td>\n",
              "      <td>...</td>\n",
              "      <td>...</td>\n",
              "    </tr>\n",
              "    <tr>\n",
              "      <th>71004</th>\n",
              "      <td>35090</td>\n",
              "      <td>3523</td>\n",
              "      <td>5.0</td>\n",
              "    </tr>\n",
              "    <tr>\n",
              "      <th>71005</th>\n",
              "      <td>17647</td>\n",
              "      <td>3524</td>\n",
              "      <td>5.0</td>\n",
              "    </tr>\n",
              "    <tr>\n",
              "      <th>71006</th>\n",
              "      <td>6290</td>\n",
              "      <td>3525</td>\n",
              "      <td>2.0</td>\n",
              "    </tr>\n",
              "    <tr>\n",
              "      <th>71007</th>\n",
              "      <td>24585</td>\n",
              "      <td>3526</td>\n",
              "      <td>5.0</td>\n",
              "    </tr>\n",
              "    <tr>\n",
              "      <th>71008</th>\n",
              "      <td>10713</td>\n",
              "      <td>3527</td>\n",
              "      <td>5.0</td>\n",
              "    </tr>\n",
              "  </tbody>\n",
              "</table>\n",
              "<p>71009 rows × 3 columns</p>\n",
              "</div>"
            ],
            "text/plain": [
              "           1   1.1  4.0\n",
              "0          2     1  4.0\n",
              "1          3     1  4.0\n",
              "2          4     1  5.0\n",
              "3          5     1  5.0\n",
              "4          6     1  5.0\n",
              "...      ...   ...  ...\n",
              "71004  35090  3523  5.0\n",
              "71005  17647  3524  5.0\n",
              "71006   6290  3525  2.0\n",
              "71007  24585  3526  5.0\n",
              "71008  10713  3527  5.0\n",
              "\n",
              "[71009 rows x 3 columns]"
            ]
          },
          "metadata": {
            "tags": []
          },
          "execution_count": 52
        }
      ]
    },
    {
      "cell_type": "code",
      "metadata": {
        "id": "AtJyFUZXrchK"
      },
      "source": [
        ""
      ],
      "execution_count": null,
      "outputs": []
    }
  ]
}