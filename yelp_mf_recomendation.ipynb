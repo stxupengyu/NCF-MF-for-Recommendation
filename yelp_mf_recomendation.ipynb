{
  "nbformat": 4,
  "nbformat_minor": 0,
  "metadata": {
    "colab": {
      "name": "yelp_mf_recomendation.ipynb",
      "provenance": [],
      "collapsed_sections": [],
      "include_colab_link": true
    },
    "kernelspec": {
      "name": "python3",
      "display_name": "Python 3"
    },
    "accelerator": "TPU"
  },
  "cells": [
    {
      "cell_type": "markdown",
      "metadata": {
        "id": "view-in-github",
        "colab_type": "text"
      },
      "source": [
        "<a href=\"https://colab.research.google.com/github/stxupengyu/NCF-MF-for-Recommendation/blob/main/yelp_mf_recomendation.ipynb\" target=\"_parent\"><img src=\"https://colab.research.google.com/assets/colab-badge.svg\" alt=\"Open In Colab\"/></a>"
      ]
    },
    {
      "cell_type": "markdown",
      "metadata": {
        "id": "ZFFGpJWHrKrQ"
      },
      "source": [
        "#Link Google Drive"
      ]
    },
    {
      "cell_type": "code",
      "metadata": {
        "id": "PvDM6Lhkj-L3",
        "colab": {
          "base_uri": "https://localhost:8080/"
        },
        "outputId": "d4ffcac9-eb65-4a5f-fa6a-64b21001b9df"
      },
      "source": [
        "#link google drive\n",
        "from google.colab import drive\n",
        "drive.mount('/content/drive')"
      ],
      "execution_count": null,
      "outputs": [
        {
          "output_type": "stream",
          "text": [
            "Drive already mounted at /content/drive; to attempt to forcibly remount, call drive.mount(\"/content/drive\", force_remount=True).\n"
          ],
          "name": "stdout"
        }
      ]
    },
    {
      "cell_type": "code",
      "metadata": {
        "id": "1y171CHjj-FI",
        "colab": {
          "base_uri": "https://localhost:8080/"
        },
        "outputId": "437649a6-9f37-4ddd-8a6a-b9d205f7c618"
      },
      "source": [
        "#enter the folder\n",
        "!ls\n",
        "import os\n",
        "os.chdir('/content/drive/My Drive/Project/Deep-Rec-Sys')\n",
        "!ls"
      ],
      "execution_count": null,
      "outputs": [
        {
          "output_type": "stream",
          "text": [
            "Dataset_Agreement.pdf\t\t     yelp_academic_dataset_review.json\n",
            "kaggle.json\t\t\t     yelp_academic_dataset_tip.json\n",
            "rating.csv\t\t\t     yelp_academic_dataset_user.json\n",
            "rating_text.csv\t\t\t     yelp_data_analysis.ipynb\n",
            "yelp_academic_dataset_business.json  yelp_mf_recomendation.ipynb\n",
            "yelp_academic_dataset_checkin.json   yelp_nn_recomendation.ipynb\n",
            "Dataset_Agreement.pdf\t\t     yelp_academic_dataset_review.json\n",
            "kaggle.json\t\t\t     yelp_academic_dataset_tip.json\n",
            "rating.csv\t\t\t     yelp_academic_dataset_user.json\n",
            "rating_text.csv\t\t\t     yelp_data_analysis.ipynb\n",
            "yelp_academic_dataset_business.json  yelp_mf_recomendation.ipynb\n",
            "yelp_academic_dataset_checkin.json   yelp_nn_recomendation.ipynb\n"
          ],
          "name": "stdout"
        }
      ]
    },
    {
      "cell_type": "code",
      "metadata": {
        "id": "oNNoKB4-pQMP"
      },
      "source": [
        "#!pip install scikit-surprise\n",
        "from surprise import SVD,SVDpp,NormalPredictor,NMF,KNNBasic\n",
        "from surprise import Dataset\n",
        "from surprise.model_selection import cross_validate\n",
        "from surprise import Reader\n",
        "from surprise import accuracy\n",
        "from surprise.model_selection import KFold, split\n",
        "import pandas as pd\n",
        "# 指定文件所在路径\n",
        "file_path = os.path.expanduser('rating.csv')\n",
        "# 告诉文本阅读器，文本的格式是怎么样的\n",
        "reader = Reader(line_format='user item rating', sep=',')\n",
        "# 加载数据\n",
        "data = Dataset.load_from_file(file_path, reader=reader)"
      ],
      "execution_count": null,
      "outputs": []
    },
    {
      "cell_type": "code",
      "metadata": {
        "id": "zu6V3SHgxjXc"
      },
      "source": [
        "#使用纯随机\n",
        "algo0=NormalPredictor()\n",
        "\n",
        "#使用基于用户相似度的协同过滤算法\n",
        "sim_options = {'name': 'pearson_baseline'}\n",
        "algo1 = KNNBasic(k=5, min_k=1,sim_options=sim_options)\n",
        "#k近邻数量 sim_options利用的相似度标准\n",
        "\n",
        "# 使用funkSVD\n",
        "algo2 = SVD(biased=False,n_factors=50,n_epochs=20,lr_all=0.005,reg_all=0.02)\n",
        "#n_factors特征维度，n_epochs迭代次数,lr_all学习率,reg_all=0.02正则化系数\n",
        "\n",
        "# 使用biasSVD\n",
        "algo3 = SVD(biased=True,n_factors=50,n_epochs=20,lr_all=0.005,reg_all=0.02)\n",
        "#biased是否使用biasedSVD，n_factors特征维度，n_epochs迭代次数,lr_all学习率,reg_all=0.02正则化系数\n",
        "\n",
        "# 使用SVD++\n",
        "algo4 = SVDpp(n_factors=50,n_epochs=20,lr_all=0.005,reg_all=0.02)\n",
        "#n_factors特征维度，n_epochs迭代次数,lr_all学习率,reg_all=0.02正则化系数\n",
        "\n",
        "#使用非负矩阵分解\n",
        "algo5 = NMF(n_factors=50,n_epochs=20)\n",
        "#n_factors特征维度，n_epochs迭代次数"
      ],
      "execution_count": null,
      "outputs": []
    },
    {
      "cell_type": "code",
      "metadata": {
        "id": "UaUvFGQpBH3z",
        "colab": {
          "base_uri": "https://localhost:8080/"
        },
        "outputId": "8ba59207-f24d-45d4-ece5-89433af14140"
      },
      "source": [
        "# Run 5-fold cross-validation and print results\n",
        "algo0_result=cross_validate(algo0, data, measures=['RMSE', 'MAE'], cv=5, verbose=True)\n",
        "#algo1_result=cross_validate(algo1, data, measures=['RMSE', 'MAE'], cv=5, verbose=True)\n",
        "algo2_result=cross_validate(algo2, data, measures=['RMSE', 'MAE'], cv=5, verbose=True)\n",
        "algo3_result=cross_validate(algo3, data, measures=['RMSE', 'MAE'], cv=5, verbose=True)\n",
        "algo4_result=cross_validate(algo4, data, measures=['RMSE', 'MAE'], cv=5, verbose=True)\n",
        "algo5_result=cross_validate(algo5, data, measures=['RMSE', 'MAE'], cv=5, verbose=True)"
      ],
      "execution_count": null,
      "outputs": [
        {
          "output_type": "stream",
          "text": [
            "Evaluating RMSE, MAE of algorithm NormalPredictor on 5 split(s).\n",
            "\n",
            "                  Fold 1  Fold 2  Fold 3  Fold 4  Fold 5  Mean    Std     \n",
            "RMSE (testset)    1.7854  1.7665  1.7930  1.7705  1.7539  1.7739  0.0139  \n",
            "MAE (testset)     1.4303  1.4159  1.4401  1.4228  1.4043  1.4227  0.0122  \n",
            "Fit time          0.10    0.11    0.11    0.11    0.11    0.11    0.01    \n",
            "Test time         0.11    0.11    0.19    0.18    0.18    0.15    0.04    \n",
            "Evaluating RMSE, MAE of algorithm SVD on 5 split(s).\n",
            "\n",
            "                  Fold 1  Fold 2  Fold 3  Fold 4  Fold 5  Mean    Std     \n",
            "RMSE (testset)    2.2273  2.1974  2.2287  2.2380  2.2453  2.2274  0.0163  \n",
            "MAE (testset)     1.8848  1.8541  1.8833  1.8960  1.9033  1.8843  0.0168  \n",
            "Fit time          2.30    2.30    2.34    2.32    2.35    2.32    0.02    \n",
            "Test time         0.09    0.09    0.19    0.19    0.20    0.15    0.05    \n",
            "Evaluating RMSE, MAE of algorithm SVD on 5 split(s).\n",
            "\n",
            "                  Fold 1  Fold 2  Fold 3  Fold 4  Fold 5  Mean    Std     \n",
            "RMSE (testset)    1.2248  1.2220  1.2246  1.2238  1.2166  1.2224  0.0030  \n",
            "MAE (testset)     0.9935  0.9904  0.9928  0.9927  0.9850  0.9909  0.0031  \n",
            "Fit time          2.31    2.46    2.36    2.46    2.33    2.38    0.06    \n",
            "Test time         0.10    0.10    0.10    0.10    0.22    0.12    0.05    \n",
            "Evaluating RMSE, MAE of algorithm SVDpp on 5 split(s).\n",
            "\n",
            "                  Fold 1  Fold 2  Fold 3  Fold 4  Fold 5  Mean    Std     \n",
            "RMSE (testset)    1.2402  1.2408  1.2388  1.2435  1.2417  1.2410  0.0016  \n",
            "MAE (testset)     1.0107  1.0128  1.0126  1.0129  1.0194  1.0137  0.0030  \n",
            "Fit time          15.06   15.26   15.37   15.09   15.25   15.20   0.12    \n",
            "Test time         0.30    0.26    0.27    0.42    0.28    0.31    0.06    \n",
            "Evaluating RMSE, MAE of algorithm NMF on 5 split(s).\n",
            "\n",
            "                  Fold 1  Fold 2  Fold 3  Fold 4  Fold 5  Mean    Std     \n",
            "RMSE (testset)    1.5979  1.5858  1.5872  1.5860  1.5857  1.5885  0.0047  \n",
            "MAE (testset)     1.2749  1.2619  1.2565  1.2666  1.2652  1.2650  0.0060  \n",
            "Fit time          5.26    5.21    5.17    5.22    5.37    5.25    0.07    \n",
            "Test time         0.09    0.25    0.09    0.09    0.09    0.12    0.06    \n"
          ],
          "name": "stdout"
        }
      ]
    },
    {
      "cell_type": "code",
      "metadata": {
        "id": "TXYZSAZUDAXi"
      },
      "source": [
        ""
      ],
      "execution_count": null,
      "outputs": []
    }
  ]
}