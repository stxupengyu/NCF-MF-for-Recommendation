{
  "nbformat": 4,
  "nbformat_minor": 0,
  "metadata": {
    "accelerator": "GPU",
    "colab": {
      "name": "yelp_nn_recomendation.ipynb",
      "provenance": [],
      "collapsed_sections": [],
      "include_colab_link": true
    },
    "kernelspec": {
      "display_name": "Python 3",
      "name": "python3"
    }
  },
  "cells": [
    {
      "cell_type": "markdown",
      "metadata": {
        "id": "view-in-github",
        "colab_type": "text"
      },
      "source": [
        "<a href=\"https://colab.research.google.com/github/stxupengyu/NCF-MF-for-Recommendation/blob/main/yelp_nn_recomendation.ipynb\" target=\"_parent\"><img src=\"https://colab.research.google.com/assets/colab-badge.svg\" alt=\"Open In Colab\"/></a>"
      ]
    },
    {
      "cell_type": "markdown",
      "metadata": {
        "id": "ZFFGpJWHrKrQ"
      },
      "source": [
        "#Link Google Drive"
      ]
    },
    {
      "cell_type": "code",
      "metadata": {
        "id": "PvDM6Lhkj-L3",
        "colab": {
          "base_uri": "https://localhost:8080/"
        },
        "outputId": "71e3d409-9167-4bd9-891c-d10b61a01aa5"
      },
      "source": [
        "#link google drive\n",
        "from google.colab import drive\n",
        "drive.mount('/content/drive')"
      ],
      "execution_count": null,
      "outputs": [
        {
          "output_type": "stream",
          "text": [
            "Drive already mounted at /content/drive; to attempt to forcibly remount, call drive.mount(\"/content/drive\", force_remount=True).\n"
          ],
          "name": "stdout"
        }
      ]
    },
    {
      "cell_type": "code",
      "metadata": {
        "id": "1y171CHjj-FI",
        "colab": {
          "base_uri": "https://localhost:8080/"
        },
        "outputId": "6fd34b17-a04c-4ce0-e547-14a4a961c42d"
      },
      "source": [
        "#enter the folder\n",
        "!ls\n",
        "import os\n",
        "os.chdir('/content/drive/My Drive/Project/Deep-Rec-Sys')\n",
        "!ls"
      ],
      "execution_count": null,
      "outputs": [
        {
          "output_type": "stream",
          "text": [
            "best_model.h5\t\t\t     yelp_academic_dataset_review.json\n",
            "Dataset_Agreement.pdf\t\t     yelp_academic_dataset_tip.json\n",
            "kaggle.json\t\t\t     yelp_academic_dataset_user.json\n",
            "rating.csv\t\t\t     yelp_data_analysis.ipynb\n",
            "rating_text.csv\t\t\t     yelp_mf_recomendation.ipynb\n",
            "yelp_academic_dataset_business.json  yelp_nn_recomendation.ipynb\n",
            "yelp_academic_dataset_checkin.json   yelp_nn_recomendation.ipynb（副本）\n",
            "best_model.h5\t\t\t     yelp_academic_dataset_review.json\n",
            "Dataset_Agreement.pdf\t\t     yelp_academic_dataset_tip.json\n",
            "kaggle.json\t\t\t     yelp_academic_dataset_user.json\n",
            "rating.csv\t\t\t     yelp_data_analysis.ipynb\n",
            "rating_text.csv\t\t\t     yelp_mf_recomendation.ipynb\n",
            "yelp_academic_dataset_business.json  yelp_nn_recomendation.ipynb\n",
            "yelp_academic_dataset_checkin.json   yelp_nn_recomendation.ipynb（副本）\n"
          ],
          "name": "stdout"
        }
      ]
    },
    {
      "cell_type": "code",
      "metadata": {
        "id": "LVc5hzZEFL9J",
        "colab": {
          "base_uri": "https://localhost:8080/",
          "height": 110
        },
        "outputId": "676ff6ff-c64c-4da0-c29f-77d59c9b86d5"
      },
      "source": [
        "import pandas as pd\n",
        "import numpy as np\n",
        "import matplotlib.pyplot as plt\n",
        "\n",
        "data=pd.read_csv('rating_text.csv')\n",
        "display(data.tail(2))"
      ],
      "execution_count": null,
      "outputs": [
        {
          "output_type": "display_data",
          "data": {
            "text/html": [
              "<div>\n",
              "<style scoped>\n",
              "    .dataframe tbody tr th:only-of-type {\n",
              "        vertical-align: middle;\n",
              "    }\n",
              "\n",
              "    .dataframe tbody tr th {\n",
              "        vertical-align: top;\n",
              "    }\n",
              "\n",
              "    .dataframe thead th {\n",
              "        text-align: right;\n",
              "    }\n",
              "</style>\n",
              "<table border=\"1\" class=\"dataframe\">\n",
              "  <thead>\n",
              "    <tr style=\"text-align: right;\">\n",
              "      <th></th>\n",
              "      <th>user_id</th>\n",
              "      <th>business_id</th>\n",
              "      <th>stars</th>\n",
              "      <th>text</th>\n",
              "    </tr>\n",
              "  </thead>\n",
              "  <tbody>\n",
              "    <tr>\n",
              "      <th>71008</th>\n",
              "      <td>24585</td>\n",
              "      <td>3526</td>\n",
              "      <td>5.0</td>\n",
              "      <td>I was looking for hairdressers to go to becaus...</td>\n",
              "    </tr>\n",
              "    <tr>\n",
              "      <th>71009</th>\n",
              "      <td>10713</td>\n",
              "      <td>3527</td>\n",
              "      <td>5.0</td>\n",
              "      <td>I'm so pleased to have stumbled across this ut...</td>\n",
              "    </tr>\n",
              "  </tbody>\n",
              "</table>\n",
              "</div>"
            ],
            "text/plain": [
              "       user_id  ...                                               text\n",
              "71008    24585  ...  I was looking for hairdressers to go to becaus...\n",
              "71009    10713  ...  I'm so pleased to have stumbled across this ut...\n",
              "\n",
              "[2 rows x 4 columns]"
            ]
          },
          "metadata": {
            "tags": []
          }
        }
      ]
    },
    {
      "cell_type": "code",
      "metadata": {
        "id": "p5g5xwMoPZfV"
      },
      "source": [
        "n_users, n_rests, max_rating = data.iloc[:,:3].max()\n",
        "min_rating = data.iloc[:,2].min()\n",
        "n_factors = 1000"
      ],
      "execution_count": null,
      "outputs": []
    },
    {
      "cell_type": "code",
      "metadata": {
        "id": "TXYZSAZUDAXi",
        "colab": {
          "base_uri": "https://localhost:8080/"
        },
        "outputId": "1ff6fe72-3e9e-40a4-b31f-9fdfe0c10eb7"
      },
      "source": [
        "from sklearn.model_selection import train_test_split\n",
        "\n",
        "X = data[['user_id', 'business_id']].values\n",
        "y = data['stars'].values\n",
        "\n",
        "X_train_keras, X_test_keras, y_train_keras, y_test_keras = train_test_split(X, y, test_size=0.2, random_state=42)\n",
        "X_train_keras.shape, X_test_keras.shape, y_train_keras.shape, y_test_keras.shape"
      ],
      "execution_count": null,
      "outputs": [
        {
          "output_type": "execute_result",
          "data": {
            "text/plain": [
              "((56808, 2), (14202, 2), (56808,), (14202,))"
            ]
          },
          "metadata": {
            "tags": []
          },
          "execution_count": 34
        }
      ]
    },
    {
      "cell_type": "code",
      "metadata": {
        "id": "pKMoC6IuH-C8"
      },
      "source": [
        "X_train_array = [X_train_keras[:, 0], X_train_keras[:, 1]]\n",
        "X_test_array = [X_test_keras[:, 0], X_test_keras[:, 1]]"
      ],
      "execution_count": null,
      "outputs": []
    },
    {
      "cell_type": "code",
      "metadata": {
        "id": "jjVGEZh5H-Hl"
      },
      "source": [
        "from keras.layers import Add, Activation, Lambda\n",
        "from keras.models import Model\n",
        "from keras.layers import Input, Reshape, Dot\n",
        "from keras.layers.embeddings import Embedding\n",
        "from keras.optimizers import Adam\n",
        "from keras.regularizers import l2\n",
        "\n",
        "class EmbeddingLayer:\n",
        "    def __init__(self, n_items, n_factors):\n",
        "        self.n_items = n_items\n",
        "        self.n_factors = n_factors\n",
        "    \n",
        "    def __call__(self, x):\n",
        "        x = Embedding(self.n_items, self.n_factors, embeddings_initializer='he_normal', embeddings_regularizer=l2(1e-6))(x)\n",
        "        x = Reshape((self.n_factors,))(x)\n",
        "        \n",
        "        return x\n",
        "    \n",
        "def Recommender(n_users, n_rests, n_factors, min_rating, max_rating):\n",
        "    user = Input(shape=(1,))\n",
        "    u = EmbeddingLayer(n_users, n_factors)(user)\n",
        "    ub = EmbeddingLayer(n_users, 1)(user)\n",
        "    \n",
        "    restaurant = Input(shape=(1,))\n",
        "    m = EmbeddingLayer(n_rests, n_factors)(restaurant)\n",
        "    mb = EmbeddingLayer(n_rests, 1)(restaurant)   \n",
        "    \n",
        "    x = Dot(axes=1)([u, m])\n",
        "    x = Add()([x, ub, mb])\n",
        "    x = Activation('sigmoid')(x)\n",
        "    x = Lambda(lambda x: x * (max_rating - min_rating) + min_rating)(x)  \n",
        "    \n",
        "    model = Model(inputs=[user, restaurant], outputs=x)\n",
        "    opt = Adam(lr=0.001)\n",
        "    model.compile(loss='mean_squared_error', optimizer=opt, metrics=['mae','mse'])  \n",
        "    \n",
        "    return model"
      ],
      "execution_count": null,
      "outputs": []
    },
    {
      "cell_type": "code",
      "metadata": {
        "id": "awOFl8iQOpZJ",
        "colab": {
          "background_save": true,
          "base_uri": "https://localhost:8080/"
        },
        "outputId": "847b390c-0a25-4b34-b858-e99d8674cca1"
      },
      "source": [
        "from sklearn.metrics import mean_absolute_error\n",
        "from sklearn.metrics import mean_squared_error\n",
        "from keras.callbacks import ModelCheckpoint, EarlyStopping\n",
        "\n",
        "#保存最好的模型\n",
        "model_name='best_model.h5'\n",
        "es = EarlyStopping(monitor='val_loss', patience=2)\n",
        "cp = ModelCheckpoint(filepath=model_name, monitor='val_loss', save_best_only=True)\n",
        "keras_model = Recommender(int(n_users)+1, int(n_rests)+1, n_factors, min_rating, max_rating)\n",
        "keras_model.summary()\n",
        "history = keras_model.fit(x=X_train_array, y=y_train_keras, batch_size=64,\\\n",
        "      epochs=150, verbose=1, callbacks=[es, cp], validation_data=(X_test_array, y_test_keras))\n"
      ],
      "execution_count": null,
      "outputs": [
        {
          "output_type": "stream",
          "text": [
            "Model: \"functional_5\"\n",
            "__________________________________________________________________________________________________\n",
            "Layer (type)                    Output Shape         Param #     Connected to                     \n",
            "==================================================================================================\n",
            "input_5 (InputLayer)            [(None, 1)]          0                                            \n",
            "__________________________________________________________________________________________________\n",
            "input_6 (InputLayer)            [(None, 1)]          0                                            \n",
            "__________________________________________________________________________________________________\n",
            "embedding_8 (Embedding)         (None, 1, 1000)      35091000    input_5[0][0]                    \n",
            "__________________________________________________________________________________________________\n",
            "embedding_10 (Embedding)        (None, 1, 1000)      3528000     input_6[0][0]                    \n",
            "__________________________________________________________________________________________________\n",
            "reshape_8 (Reshape)             (None, 1000)         0           embedding_8[0][0]                \n",
            "__________________________________________________________________________________________________\n",
            "reshape_10 (Reshape)            (None, 1000)         0           embedding_10[0][0]               \n",
            "__________________________________________________________________________________________________\n",
            "embedding_9 (Embedding)         (None, 1, 1)         35091       input_5[0][0]                    \n",
            "__________________________________________________________________________________________________\n",
            "embedding_11 (Embedding)        (None, 1, 1)         3528        input_6[0][0]                    \n",
            "__________________________________________________________________________________________________\n",
            "dot_2 (Dot)                     (None, 1)            0           reshape_8[0][0]                  \n",
            "                                                                 reshape_10[0][0]                 \n",
            "__________________________________________________________________________________________________\n",
            "reshape_9 (Reshape)             (None, 1)            0           embedding_9[0][0]                \n",
            "__________________________________________________________________________________________________\n",
            "reshape_11 (Reshape)            (None, 1)            0           embedding_11[0][0]               \n",
            "__________________________________________________________________________________________________\n",
            "add_2 (Add)                     (None, 1)            0           dot_2[0][0]                      \n",
            "                                                                 reshape_9[0][0]                  \n",
            "                                                                 reshape_11[0][0]                 \n",
            "__________________________________________________________________________________________________\n",
            "activation_2 (Activation)       (None, 1)            0           add_2[0][0]                      \n",
            "__________________________________________________________________________________________________\n",
            "lambda_2 (Lambda)               (None, 1)            0           activation_2[0][0]               \n",
            "==================================================================================================\n",
            "Total params: 38,657,619\n",
            "Trainable params: 38,657,619\n",
            "Non-trainable params: 0\n",
            "__________________________________________________________________________________________________\n",
            "Epoch 1/150\n"
          ],
          "name": "stdout"
        },
        {
          "output_type": "stream",
          "text": [
            "/usr/local/lib/python3.6/dist-packages/tensorflow/python/framework/indexed_slices.py:432: UserWarning: Converting sparse IndexedSlices to a dense Tensor of unknown shape. This may consume a large amount of memory.\n",
            "  \"Converting sparse IndexedSlices to a dense Tensor of unknown shape. \"\n"
          ],
          "name": "stderr"
        },
        {
          "output_type": "stream",
          "text": [
            "888/888 [==============================] - 216s 244ms/step - loss: 2.0616 - mae: 1.2506 - mse: 2.0553 - val_loss: 1.9573 - val_mae: 1.2217 - val_mse: 1.9434\n",
            "Epoch 2/150\n",
            "888/888 [==============================] - 218s 245ms/step - loss: 0.7149 - mae: 0.6462 - mse: 0.6850 - val_loss: 1.9319 - val_mae: 1.1933 - val_mse: 1.8862\n",
            "Epoch 3/150\n",
            "888/888 [==============================] - 218s 245ms/step - loss: 0.2764 - mae: 0.3627 - mse: 0.2302 - val_loss: 1.9105 - val_mae: 1.1856 - val_mse: 1.8623\n",
            "Epoch 4/150\n",
            "888/888 [==============================] - 215s 242ms/step - loss: 0.2424 - mae: 0.3350 - mse: 0.1910 - val_loss: 1.9136 - val_mae: 1.1825 - val_mse: 1.8580\n",
            "Epoch 5/150\n",
            "888/888 [==============================] - 217s 244ms/step - loss: 0.2235 - mae: 0.3201 - mse: 0.1687 - val_loss: 1.8910 - val_mae: 1.1739 - val_mse: 1.8346\n",
            "Epoch 6/150\n",
            "888/888 [==============================] - 215s 242ms/step - loss: 0.2162 - mae: 0.3036 - mse: 0.1584 - val_loss: 1.8916 - val_mae: 1.1718 - val_mse: 1.8305\n",
            "Epoch 7/150\n",
            "888/888 [==============================] - 217s 244ms/step - loss: 0.2195 - mae: 0.3092 - mse: 0.1595 - val_loss: 1.8709 - val_mae: 1.1634 - val_mse: 1.8085\n",
            "Epoch 8/150\n",
            "888/888 [==============================] - 217s 244ms/step - loss: 0.2151 - mae: 0.3034 - mse: 0.1529 - val_loss: 1.8668 - val_mae: 1.1596 - val_mse: 1.8012\n",
            "Epoch 9/150\n",
            "888/888 [==============================] - 217s 244ms/step - loss: 0.2132 - mae: 0.3004 - mse: 0.1495 - val_loss: 1.8466 - val_mae: 1.1521 - val_mse: 1.7806\n",
            "Epoch 10/150\n",
            "888/888 [==============================] - 216s 244ms/step - loss: 0.2099 - mae: 0.2944 - mse: 0.1456 - val_loss: 1.8391 - val_mae: 1.1471 - val_mse: 1.7725\n",
            "Epoch 11/150\n",
            "888/888 [==============================] - 217s 244ms/step - loss: 0.2063 - mae: 0.2911 - mse: 0.1425 - val_loss: 1.8162 - val_mae: 1.1399 - val_mse: 1.7505\n",
            "Epoch 12/150\n",
            "888/888 [==============================] - 216s 243ms/step - loss: 0.2019 - mae: 0.2859 - mse: 0.1385 - val_loss: 1.8116 - val_mae: 1.1372 - val_mse: 1.7463\n",
            "Epoch 13/150\n",
            "888/888 [==============================] - 216s 243ms/step - loss: 0.1973 - mae: 0.2831 - mse: 0.1348 - val_loss: 1.7951 - val_mae: 1.1315 - val_mse: 1.7310\n",
            "Epoch 14/150\n",
            "888/888 [==============================] - 216s 243ms/step - loss: 0.1932 - mae: 0.2794 - mse: 0.1314 - val_loss: 1.7869 - val_mae: 1.1279 - val_mse: 1.7233\n",
            "Epoch 15/150\n",
            "888/888 [==============================] - 215s 242ms/step - loss: 0.1887 - mae: 0.2748 - mse: 0.1277 - val_loss: 1.7681 - val_mae: 1.1208 - val_mse: 1.7055\n",
            "Epoch 16/150\n",
            "888/888 [==============================] - 215s 242ms/step - loss: 0.1835 - mae: 0.2704 - mse: 0.1233 - val_loss: 1.7663 - val_mae: 1.1184 - val_mse: 1.7043\n",
            "Epoch 17/150\n",
            "888/888 [==============================] - 217s 244ms/step - loss: 0.1801 - mae: 0.2667 - mse: 0.1206 - val_loss: 1.7497 - val_mae: 1.1136 - val_mse: 1.6886\n",
            "Epoch 18/150\n",
            "888/888 [==============================] - 217s 244ms/step - loss: 0.1767 - mae: 0.2641 - mse: 0.1179 - val_loss: 1.7471 - val_mae: 1.1109 - val_mse: 1.6866\n",
            "Epoch 19/150\n",
            "888/888 [==============================] - 217s 245ms/step - loss: 0.1740 - mae: 0.2616 - mse: 0.1159 - val_loss: 1.7322 - val_mae: 1.1061 - val_mse: 1.6724\n",
            "Epoch 20/150\n",
            "888/888 [==============================] - 217s 244ms/step - loss: 0.1696 - mae: 0.2572 - mse: 0.1121 - val_loss: 1.7279 - val_mae: 1.1033 - val_mse: 1.6687\n",
            "Epoch 21/150\n",
            "888/888 [==============================] - 216s 243ms/step - loss: 0.1665 - mae: 0.2537 - mse: 0.1097 - val_loss: 1.7141 - val_mae: 1.0987 - val_mse: 1.6559\n",
            "Epoch 22/150\n",
            "888/888 [==============================] - 216s 244ms/step - loss: 0.1634 - mae: 0.2512 - mse: 0.1073 - val_loss: 1.7095 - val_mae: 1.0951 - val_mse: 1.6516\n",
            "Epoch 23/150\n",
            "888/888 [==============================] - 217s 244ms/step - loss: 0.1602 - mae: 0.2475 - mse: 0.1047 - val_loss: 1.7001 - val_mae: 1.0918 - val_mse: 1.6431\n",
            "Epoch 24/150\n",
            "888/888 [==============================] - 216s 243ms/step - loss: 0.1575 - mae: 0.2448 - mse: 0.1024 - val_loss: 1.6958 - val_mae: 1.0894 - val_mse: 1.6391\n",
            "Epoch 25/150\n",
            "888/888 [==============================] - 215s 242ms/step - loss: 0.1556 - mae: 0.2423 - mse: 0.1010 - val_loss: 1.6847 - val_mae: 1.0850 - val_mse: 1.6287\n",
            "Epoch 26/150\n",
            "888/888 [==============================] - 213s 240ms/step - loss: 0.1524 - mae: 0.2392 - mse: 0.0983 - val_loss: 1.6815 - val_mae: 1.0831 - val_mse: 1.6258\n",
            "Epoch 27/150\n",
            "888/888 [==============================] - 214s 241ms/step - loss: 0.1507 - mae: 0.2376 - mse: 0.0971 - val_loss: 1.6740 - val_mae: 1.0802 - val_mse: 1.6190\n",
            "Epoch 28/150\n",
            "888/888 [==============================] - 214s 241ms/step - loss: 0.1478 - mae: 0.2340 - mse: 0.0946 - val_loss: 1.6724 - val_mae: 1.0786 - val_mse: 1.6177\n",
            "Epoch 29/150\n",
            "888/888 [==============================] - 214s 241ms/step - loss: 0.1451 - mae: 0.2314 - mse: 0.0924 - val_loss: 1.6633 - val_mae: 1.0749 - val_mse: 1.6090\n",
            "Epoch 30/150\n",
            "888/888 [==============================] - 214s 241ms/step - loss: 0.1438 - mae: 0.2292 - mse: 0.0915 - val_loss: 1.6554 - val_mae: 1.0715 - val_mse: 1.6015\n",
            "Epoch 31/150\n",
            "888/888 [==============================] - 214s 241ms/step - loss: 0.1414 - mae: 0.2266 - mse: 0.0895 - val_loss: 1.6532 - val_mae: 1.0701 - val_mse: 1.5999\n",
            "Epoch 32/150\n",
            "888/888 [==============================] - 214s 241ms/step - loss: 0.1397 - mae: 0.2243 - mse: 0.0881 - val_loss: 1.6472 - val_mae: 1.0671 - val_mse: 1.5943\n",
            "Epoch 33/150\n",
            "888/888 [==============================] - 215s 242ms/step - loss: 0.1372 - mae: 0.2220 - mse: 0.0860 - val_loss: 1.6428 - val_mae: 1.0654 - val_mse: 1.5903\n",
            "Epoch 34/150\n",
            "888/888 [==============================] - 214s 241ms/step - loss: 0.1361 - mae: 0.2199 - mse: 0.0852 - val_loss: 1.6371 - val_mae: 1.0620 - val_mse: 1.5847\n",
            "Epoch 35/150\n",
            "888/888 [==============================] - 214s 241ms/step - loss: 0.1346 - mae: 0.2182 - mse: 0.0840 - val_loss: 1.6340 - val_mae: 1.0600 - val_mse: 1.5821\n",
            "Epoch 36/150\n",
            "888/888 [==============================] - 215s 242ms/step - loss: 0.1327 - mae: 0.2157 - mse: 0.0824 - val_loss: 1.6300 - val_mae: 1.0580 - val_mse: 1.5783\n",
            "Epoch 37/150\n",
            "888/888 [==============================] - 214s 241ms/step - loss: 0.1315 - mae: 0.2149 - mse: 0.0816 - val_loss: 1.6267 - val_mae: 1.0566 - val_mse: 1.5753\n",
            "Epoch 38/150\n",
            "888/888 [==============================] - 215s 242ms/step - loss: 0.1299 - mae: 0.2119 - mse: 0.0801 - val_loss: 1.6249 - val_mae: 1.0544 - val_mse: 1.5737\n",
            "Epoch 39/150\n",
            "888/888 [==============================] - 213s 240ms/step - loss: 0.1285 - mae: 0.2107 - mse: 0.0790 - val_loss: 1.6193 - val_mae: 1.0526 - val_mse: 1.5685\n",
            "Epoch 40/150\n",
            "888/888 [==============================] - 212s 239ms/step - loss: 0.1272 - mae: 0.2094 - mse: 0.0780 - val_loss: 1.6174 - val_mae: 1.0509 - val_mse: 1.5668\n",
            "Epoch 41/150\n",
            "888/888 [==============================] - 212s 238ms/step - loss: 0.1260 - mae: 0.2073 - mse: 0.0770 - val_loss: 1.6135 - val_mae: 1.0489 - val_mse: 1.5631\n",
            "Epoch 42/150\n",
            "888/888 [==============================] - 210s 237ms/step - loss: 0.1240 - mae: 0.2045 - mse: 0.0753 - val_loss: 1.6115 - val_mae: 1.0475 - val_mse: 1.5615\n",
            "Epoch 43/150\n",
            "888/888 [==============================] - 210s 236ms/step - loss: 0.1231 - mae: 0.2033 - mse: 0.0747 - val_loss: 1.6091 - val_mae: 1.0460 - val_mse: 1.5594\n",
            "Epoch 44/150\n",
            "888/888 [==============================] - 211s 237ms/step - loss: 0.1224 - mae: 0.2026 - mse: 0.0741 - val_loss: 1.6063 - val_mae: 1.0445 - val_mse: 1.5565\n",
            "Epoch 45/150\n",
            "888/888 [==============================] - 216s 243ms/step - loss: 0.1211 - mae: 0.2002 - mse: 0.0730 - val_loss: 1.6037 - val_mae: 1.0426 - val_mse: 1.5543\n",
            "Epoch 46/150\n",
            "888/888 [==============================] - 216s 243ms/step - loss: 0.1199 - mae: 0.1989 - mse: 0.0720 - val_loss: 1.6020 - val_mae: 1.0415 - val_mse: 1.5528\n",
            "Epoch 47/150\n",
            "888/888 [==============================] - 215s 242ms/step - loss: 0.1188 - mae: 0.1974 - mse: 0.0711 - val_loss: 1.5991 - val_mae: 1.0399 - val_mse: 1.5501\n",
            "Epoch 48/150\n",
            "888/888 [==============================] - 213s 240ms/step - loss: 0.1176 - mae: 0.1957 - mse: 0.0700 - val_loss: 1.5994 - val_mae: 1.0395 - val_mse: 1.5504\n",
            "Epoch 49/150\n",
            "888/888 [==============================] - 216s 243ms/step - loss: 0.1175 - mae: 0.1948 - mse: 0.0701 - val_loss: 1.5959 - val_mae: 1.0374 - val_mse: 1.5473\n",
            "Epoch 50/150\n",
            "888/888 [==============================] - 216s 243ms/step - loss: 0.1158 - mae: 0.1930 - mse: 0.0685 - val_loss: 1.5939 - val_mae: 1.0367 - val_mse: 1.5454\n",
            "Epoch 51/150\n",
            "888/888 [==============================] - 214s 242ms/step - loss: 0.1149 - mae: 0.1916 - mse: 0.0679 - val_loss: 1.5928 - val_mae: 1.0344 - val_mse: 1.5444\n",
            "Epoch 52/150\n",
            "888/888 [==============================] - 214s 241ms/step - loss: 0.1141 - mae: 0.1905 - mse: 0.0672 - val_loss: 1.5888 - val_mae: 1.0337 - val_mse: 1.5406\n",
            "Epoch 53/150\n",
            "888/888 [==============================] - 210s 237ms/step - loss: 0.1138 - mae: 0.1895 - mse: 0.0670 - val_loss: 1.5899 - val_mae: 1.0319 - val_mse: 1.5418\n",
            "Epoch 54/150\n",
            "888/888 [==============================] - 212s 238ms/step - loss: 0.1128 - mae: 0.1879 - mse: 0.0661 - val_loss: 1.5863 - val_mae: 1.0313 - val_mse: 1.5385\n",
            "Epoch 55/150\n",
            "888/888 [==============================] - 213s 240ms/step - loss: 0.1119 - mae: 0.1873 - mse: 0.0654 - val_loss: 1.5872 - val_mae: 1.0306 - val_mse: 1.5395\n",
            "Epoch 56/150\n",
            "888/888 [==============================] - 216s 243ms/step - loss: 0.1109 - mae: 0.1858 - mse: 0.0644 - val_loss: 1.5835 - val_mae: 1.0297 - val_mse: 1.5359\n",
            "Epoch 57/150\n",
            "888/888 [==============================] - 214s 242ms/step - loss: 0.1111 - mae: 0.1856 - mse: 0.0648 - val_loss: 1.5818 - val_mae: 1.0280 - val_mse: 1.5343\n",
            "Epoch 58/150\n",
            "888/888 [==============================] - 214s 241ms/step - loss: 0.1098 - mae: 0.1841 - mse: 0.0637 - val_loss: 1.5806 - val_mae: 1.0271 - val_mse: 1.5332\n",
            "Epoch 59/150\n",
            "888/888 [==============================] - 214s 241ms/step - loss: 0.1095 - mae: 0.1827 - mse: 0.0635 - val_loss: 1.5795 - val_mae: 1.0259 - val_mse: 1.5324\n",
            "Epoch 60/150\n",
            "888/888 [==============================] - 213s 240ms/step - loss: 0.1081 - mae: 0.1810 - mse: 0.0622 - val_loss: 1.5784 - val_mae: 1.0255 - val_mse: 1.5314\n",
            "Epoch 61/150\n",
            "888/888 [==============================] - 213s 240ms/step - loss: 0.1076 - mae: 0.1802 - mse: 0.0618 - val_loss: 1.5778 - val_mae: 1.0244 - val_mse: 1.5309\n",
            "Epoch 62/150\n",
            "888/888 [==============================] - 212s 238ms/step - loss: 0.1069 - mae: 0.1796 - mse: 0.0612 - val_loss: 1.5787 - val_mae: 1.0249 - val_mse: 1.5318\n",
            "Epoch 63/150\n",
            "888/888 [==============================] - 214s 241ms/step - loss: 0.1066 - mae: 0.1786 - mse: 0.0609 - val_loss: 1.5742 - val_mae: 1.0223 - val_mse: 1.5274\n",
            "Epoch 64/150\n",
            "581/888 [==================>...........] - ETA: 1:07 - loss: 0.1068 - mae: 0.1811 - mse: 0.0615Buffered data was truncated after reaching the output size limit."
          ],
          "name": "stdout"
        }
      ]
    },
    {
      "cell_type": "code",
      "metadata": {
        "id": "S08yIwTEgdHj",
        "colab": {
          "background_save": true
        },
        "outputId": "ef6c2af1-41a8-4243-8a58-0dd5c6516bbe"
      },
      "source": [
        "#迭代图像\n",
        "loss = history.history['loss']\n",
        "val_loss = history.history['val_loss']\n",
        "epochs_range = range(len(loss))\n",
        "plt.plot(epochs_range, loss, label='Train Loss')\n",
        "plt.plot(epochs_range, val_loss, label='Val Loss')\n",
        "plt.legend(loc='upper right')\n",
        "plt.title('Train and Val Loss')\n",
        "plt.show()\n",
        "# 加载最好的训练结果\n",
        "keras_model.load_weights(model_name)  \n",
        "y_pred = keras_model.predict(X_test_array)\n",
        "mae = mean_absolute_error(y_test_keras, y_pred)\n",
        "rmse = np.sqrt(mean_squared_error(y_test_keras, y_pred))\n",
        "print('mae,rmse:',mae,rmse)"
      ],
      "execution_count": null,
      "outputs": [
        {
          "output_type": "display_data",
          "data": {
            "image/png": "[encoded data removed]",
            "text/plain": [
              "<Figure size 432x288 with 1 Axes>"
            ]
          },
          "metadata": {
            "tags": []
          }
        },
        {
          "output_type": "stream",
          "text": [
            "mae,rmse: 1.0172914561461839 1.2329574922800597\n"
          ],
          "name": "stdout"
        }
      ]
    },
    {
      "cell_type": "code",
      "metadata": {
        "id": "kEeC1X2jPBVw"
      },
      "source": [
        ""
      ],
      "execution_count": null,
      "outputs": []
    }
  ]
}